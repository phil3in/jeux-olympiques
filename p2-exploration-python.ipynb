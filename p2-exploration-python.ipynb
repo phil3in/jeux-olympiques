{
 "cells": [
  {
   "cell_type": "markdown",
   "metadata": {},
   "source": [
    "# P2. Exploration Python"
   ]
  },
  {
   "cell_type": "markdown",
   "metadata": {},
   "source": [
    "Le répertoire `/data` contient les résultats brutes des épreuves des jeux d'été et d'hiver pour une période donnée.\n",
    "\n",
    "On s'intéresse dans le cadre de cette partie P2 à l'exploration des résultats des JO d'été (fichier : `summer-olympics.csv`) en s'appuyant sur le langage Python (standard library seulement).\n"
   ]
  },
  {
   "cell_type": "markdown",
   "metadata": {},
   "source": [
    "---"
   ]
  },
  {
   "cell_type": "markdown",
   "metadata": {},
   "source": [
    "## Préliminaire: Chargement des données\n",
    "Le code fourni ci-dessous permet de charger en mémoire le fichier de données `summer-olympics.csv` dans la variable `data`"
   ]
  },
  {
   "cell_type": "code",
   "execution_count": 1,
   "metadata": {},
   "outputs": [
    {
     "name": "stdout",
     "output_type": "stream",
     "text": [
      "data/summer-olympics.csv loaded into data (31165 items)\n",
      "done in 0.17 s.\n"
     ]
    }
   ],
   "source": [
    "import csv\n",
    "import time\n",
    "\n",
    "filename = 'data/summer-olympics.csv'\n",
    "\n",
    "ts = time.time()\n",
    "\n",
    "data = []\n",
    "with open(filename, newline='', encoding='utf8') as csvfile:\n",
    "    reader = csv.DictReader(csvfile, delimiter=',')\n",
    "    for row in reader:\n",
    "        data.append(row)\n",
    "n_items = len(data)\n",
    "\n",
    "te = time.time()\n",
    "        \n",
    "print(f\"{filename} loaded into data ({n_items} items)\")\n",
    "print(f\"done in {te - ts:.2f} s.\")\n"
   ]
  },
  {
   "cell_type": "markdown",
   "metadata": {},
   "source": [
    "### Question 0: Où trouver la documentation du module `csv` ? de la fonction `csv.DictReader` ? "
   ]
  },
  {
   "cell_type": "markdown",
   "metadata": {},
   "source": [
    "Sur https://docs.python.org/fr/3/library/csv.html, ou bien avec les commandes help(csv) et help(csv.DictReader)."
   ]
  },
  {
   "cell_type": "markdown",
   "metadata": {},
   "source": [
    "---\n",
    "### Question 1: Quel est le type de la variable `data`? "
   ]
  },
  {
   "cell_type": "code",
   "execution_count": 2,
   "metadata": {},
   "outputs": [
    {
     "data": {
      "text/plain": [
       "list"
      ]
     },
     "execution_count": 2,
     "metadata": {},
     "output_type": "execute_result"
    }
   ],
   "source": [
    "type(data)"
   ]
  },
  {
   "cell_type": "markdown",
   "metadata": {},
   "source": [
    "### Question 2: Combien d'éléments contient la variable `data` ? "
   ]
  },
  {
   "cell_type": "code",
   "execution_count": 3,
   "metadata": {},
   "outputs": [
    {
     "data": {
      "text/plain": [
       "31165"
      ]
     },
     "execution_count": 3,
     "metadata": {},
     "output_type": "execute_result"
    }
   ],
   "source": [
    "len(data)"
   ]
  },
  {
   "cell_type": "markdown",
   "metadata": {},
   "source": [
    "### Question 2: Quel est le premier élément de `data` ? "
   ]
  },
  {
   "cell_type": "code",
   "execution_count": 4,
   "metadata": {},
   "outputs": [
    {
     "data": {
      "text/plain": [
       "{'Year': '1896',\n",
       " 'City': 'Athens',\n",
       " 'Sport': 'Aquatics',\n",
       " 'Discipline': 'Swimming',\n",
       " 'Athlete': 'HAJOS, Alfred',\n",
       " 'Country': 'HUN',\n",
       " 'Gender': 'Men',\n",
       " 'Event': '100M Freestyle',\n",
       " 'Medal': 'Gold'}"
      ]
     },
     "execution_count": 4,
     "metadata": {},
     "output_type": "execute_result"
    }
   ],
   "source": [
    "data[0]"
   ]
  },
  {
   "cell_type": "markdown",
   "metadata": {},
   "source": [
    "### Question 3: Quel est le dernier élément de data ? "
   ]
  },
  {
   "cell_type": "code",
   "execution_count": 5,
   "metadata": {},
   "outputs": [
    {
     "data": {
      "text/plain": [
       "{'Year': '2012',\n",
       " 'City': 'London',\n",
       " 'Sport': 'Wrestling',\n",
       " 'Discipline': 'Wrestling Freestyle',\n",
       " 'Athlete': 'LIDBERG, Jimmy',\n",
       " 'Country': 'SWE',\n",
       " 'Gender': 'Men',\n",
       " 'Event': 'Wg 96 KG',\n",
       " 'Medal': 'Bronze'}"
      ]
     },
     "execution_count": 5,
     "metadata": {},
     "output_type": "execute_result"
    }
   ],
   "source": [
    "data[31164]"
   ]
  },
  {
   "cell_type": "markdown",
   "metadata": {},
   "source": [
    "On compte à partir de 0 donc le dernier élément d'une liste de n éléments est à l'indice n-1. Alternativement :"
   ]
  },
  {
   "cell_type": "code",
   "execution_count": 6,
   "metadata": {},
   "outputs": [
    {
     "data": {
      "text/plain": [
       "{'Year': '2012',\n",
       " 'City': 'London',\n",
       " 'Sport': 'Wrestling',\n",
       " 'Discipline': 'Wrestling Freestyle',\n",
       " 'Athlete': 'LIDBERG, Jimmy',\n",
       " 'Country': 'SWE',\n",
       " 'Gender': 'Men',\n",
       " 'Event': 'Wg 96 KG',\n",
       " 'Medal': 'Bronze'}"
      ]
     },
     "execution_count": 6,
     "metadata": {},
     "output_type": "execute_result"
    }
   ],
   "source": [
    "data[-1]"
   ]
  },
  {
   "cell_type": "markdown",
   "metadata": {},
   "source": [
    " "
   ]
  },
  {
   "cell_type": "markdown",
   "metadata": {},
   "source": [
    "---\n",
    "#### On définit la variable sample de la façon suivante :"
   ]
  },
  {
   "cell_type": "code",
   "execution_count": 7,
   "metadata": {},
   "outputs": [],
   "source": [
    "sample = data[25215]"
   ]
  },
  {
   "cell_type": "markdown",
   "metadata": {},
   "source": [
    "### Question 4: Que représente la variable `sample` ? "
   ]
  },
  {
   "cell_type": "code",
   "execution_count": 8,
   "metadata": {},
   "outputs": [
    {
     "data": {
      "text/plain": [
       "{'Year': '2004',\n",
       " 'City': 'Athens',\n",
       " 'Sport': 'Aquatics',\n",
       " 'Discipline': 'Swimming',\n",
       " 'Athlete': 'MANAUDOU, Laure',\n",
       " 'Country': 'FRA',\n",
       " 'Gender': 'Women',\n",
       " 'Event': '100M Backstroke',\n",
       " 'Medal': 'Bronze'}"
      ]
     },
     "execution_count": 8,
     "metadata": {},
     "output_type": "execute_result"
    }
   ],
   "source": [
    "sample"
   ]
  },
  {
   "cell_type": "markdown",
   "metadata": {},
   "source": [
    "### Question 5: Quel est le type de la variable `sample` ? "
   ]
  },
  {
   "cell_type": "code",
   "execution_count": 9,
   "metadata": {},
   "outputs": [
    {
     "data": {
      "text/plain": [
       "dict"
      ]
     },
     "execution_count": 9,
     "metadata": {},
     "output_type": "execute_result"
    }
   ],
   "source": [
    "type(sample)"
   ]
  },
  {
   "cell_type": "markdown",
   "metadata": {},
   "source": [
    "Un dictionnaire (dict) est une collection d'informations organisées en couples de clés (par exemple \"Sport\") et de valeurs (par exemple \"Aquatics\")."
   ]
  },
  {
   "cell_type": "markdown",
   "metadata": {},
   "source": [
    "### Question 6: De quel sport / discipline / compétition (Event) est-il question  ? "
   ]
  },
  {
   "cell_type": "code",
   "execution_count": 10,
   "metadata": {},
   "outputs": [
    {
     "data": {
      "text/plain": [
       "'Aquatics'"
      ]
     },
     "execution_count": 10,
     "metadata": {},
     "output_type": "execute_result"
    }
   ],
   "source": [
    "sample[\"Sport\"]"
   ]
  },
  {
   "cell_type": "code",
   "execution_count": 11,
   "metadata": {},
   "outputs": [
    {
     "data": {
      "text/plain": [
       "'Swimming'"
      ]
     },
     "execution_count": 11,
     "metadata": {},
     "output_type": "execute_result"
    }
   ],
   "source": [
    "sample[\"Discipline\"]"
   ]
  },
  {
   "cell_type": "code",
   "execution_count": 12,
   "metadata": {},
   "outputs": [
    {
     "data": {
      "text/plain": [
       "'100M Backstroke'"
      ]
     },
     "execution_count": 12,
     "metadata": {},
     "output_type": "execute_result"
    }
   ],
   "source": [
    "sample[\"Event\"]"
   ]
  },
  {
   "cell_type": "markdown",
   "metadata": {},
   "source": [
    "### Combien la France a-t-elle gagné de médailles d'or en 1984 ?"
   ]
  },
  {
   "cell_type": "code",
   "execution_count": 20,
   "metadata": {},
   "outputs": [
    {
     "name": "stdout",
     "output_type": "stream",
     "text": [
      "21\n"
     ]
    }
   ],
   "source": [
    "second_liste = []\n",
    "for e in data:\n",
    "    if e['Year'] == '1984' and e['Country'] == 'FRA' and e['Medal'] == 'Gold':\n",
    "        second_liste.append(e)\n",
    "print(len(second_liste))"
   ]
  },
  {
   "cell_type": "code",
   "execution_count": 21,
   "metadata": {},
   "outputs": [
    {
     "name": "stdout",
     "output_type": "stream",
     "text": [
      "QUINON, Pierre\n",
      "BOISSE, Philippe\n",
      "LAMOUR, Jean-Francois\n",
      "AYACHE, William\n",
      "BENSOUSSAN, Michel\n",
      "BIBARD, Michel\n",
      "BIJOTAT, Dominique\n",
      "BRISSON, Francois\n",
      "CUBAYNES, Patrick\n",
      "GARANDE, Patrice\n",
      "JEANNOL, Philippe\n",
      "LACOMBE, Guy\n",
      "LEMOULT, Jean-Claude\n",
      "ROHR, Jean Philippe\n",
      "RUST, Albert\n",
      "SENAC, Didier\n",
      "THOUVENEL, Jean Christophe\n",
      "TOURE, Jose\n",
      "XUEREB, Daniel\n",
      "ZANON, Jean Louis\n",
      "HEBERLE, Philippe\n"
     ]
    }
   ],
   "source": [
    "for e in second_liste:\n",
    "    print(e['Athlete'])"
   ]
  },
  {
   "cell_type": "markdown",
   "metadata": {},
   "source": [
    "### Q3. En 2012 combien de médailles le Japon a t-il gagné ? (Théo)"
   ]
  },
  {
   "cell_type": "code",
   "execution_count": 28,
   "metadata": {},
   "outputs": [
    {
     "name": "stdout",
     "output_type": "stream",
     "text": [
      "84\n"
     ]
    }
   ],
   "source": [
    "listejapon2012 = []\n",
    "for e in data:\n",
    "    if e['Year'] == '2012' and e['Country'] == 'JPN':\n",
    "        listejapon2012.append(e)\n",
    "print(len(listejapon2012))"
   ]
  },
  {
   "cell_type": "markdown",
   "metadata": {},
   "source": [
    "### Q11. Combien de femmes françaises ont participé en 2012 , quelles sont leurs médailles ? (Izak)"
   ]
  },
  {
   "cell_type": "markdown",
   "metadata": {},
   "source": [
    "(En fait, il y a encore le problème des athlètes qui gagnent plusieurs médailles, mais bon, pour cette fois on fait comme si ça n'existait pas.)"
   ]
  },
  {
   "cell_type": "code",
   "execution_count": 29,
   "metadata": {},
   "outputs": [
    {
     "name": "stdout",
     "output_type": "stream",
     "text": [
      "31\n"
     ]
    }
   ],
   "source": [
    "listefemfra2012 = []\n",
    "for e in data:\n",
    "    if e['Year'] == '2012' and e['Country'] == 'FRA' and e['Gender'] == 'Women':\n",
    "        listefemfra2012.append(e)\n",
    "print(len(listefemfra2012))"
   ]
  },
  {
   "cell_type": "code",
   "execution_count": 31,
   "metadata": {},
   "outputs": [
    {
     "name": "stdout",
     "output_type": "stream",
     "text": [
      "Silver\n",
      "Gold\n",
      "Bronze\n",
      "Bronze\n",
      "Bronze\n",
      "Bronze\n",
      "Bronze\n",
      "Bronze\n",
      "Silver\n",
      "Silver\n",
      "Silver\n",
      "Silver\n",
      "Silver\n",
      "Silver\n",
      "Silver\n",
      "Silver\n",
      "Silver\n",
      "Silver\n",
      "Silver\n",
      "Silver\n",
      "Gold\n",
      "Gold\n",
      "Bronze\n",
      "Bronze\n",
      "Bronze\n",
      "Gold\n",
      "Bronze\n",
      "Silver\n",
      "Bronze\n",
      "Silver\n",
      "Bronze\n"
     ]
    }
   ],
   "source": [
    "for e in listefemfra2012:\n",
    "    print(e['Medal'])"
   ]
  },
  {
   "cell_type": "markdown",
   "metadata": {},
   "source": [
    "### Q17. Entre 1984 et 2012 combien de médailles a gagné la France ? (Abire)"
   ]
  },
  {
   "cell_type": "code",
   "execution_count": 49,
   "metadata": {},
   "outputs": [
    {
     "ename": "SyntaxError",
     "evalue": "invalid syntax (<ipython-input-49-4cbfb62d148a>, line 4)",
     "output_type": "error",
     "traceback": [
      "\u001b[1;36m  File \u001b[1;32m\"<ipython-input-49-4cbfb62d148a>\"\u001b[1;36m, line \u001b[1;32m4\u001b[0m\n\u001b[1;33m    if intyear >= 1984 and intyear <=2012 e['Country'] == 'FRA':\u001b[0m\n\u001b[1;37m                                          ^\u001b[0m\n\u001b[1;31mSyntaxError\u001b[0m\u001b[1;31m:\u001b[0m invalid syntax\n"
     ]
    }
   ],
   "source": [
    "listefra8412 = []\n",
    "for e in data:\n",
    "    intyear = int(['Year'])\n",
    "    if intyear >= 1984 and intyear <=2012 e['Country'] == 'FRA':\n",
    "        listefra8412.append(e)\n",
    "print(len(listefra8412))"
   ]
  },
  {
   "cell_type": "markdown",
   "metadata": {},
   "source": [
    "### Q15. Le nombre de médailles d'or par pays en 2012 (Maëlle)"
   ]
  },
  {
   "cell_type": "code",
   "execution_count": 50,
   "metadata": {},
   "outputs": [
    {
     "name": "stdout",
     "output_type": "stream",
     "text": [
      "636\n"
     ]
    }
   ],
   "source": [
    "listegold2012 = []\n",
    "for e in data:\n",
    "    if e['Year'] == '2012' and e['Medal'] == 'Gold':\n",
    "        listegold2012.append(e)\n",
    "reponse15 = len(listegold2012)\n",
    "print(reponse15)"
   ]
  },
  {
   "cell_type": "code",
   "execution_count": 70,
   "metadata": {},
   "outputs": [],
   "source": [
    "listepays = []\n",
    "for e in listegold2012:\n",
    "    if e['Country'] not in listepays:\n",
    "        listepays.append(e['Country'])"
   ]
  },
  {
   "cell_type": "code",
   "execution_count": 71,
   "metadata": {},
   "outputs": [],
   "source": [
    "setpays = set(listepays)"
   ]
  },
  {
   "cell_type": "code",
   "execution_count": 72,
   "metadata": {},
   "outputs": [],
   "source": [
    "listepaysuniques = list(setpays)"
   ]
  },
  {
   "cell_type": "code",
   "execution_count": 73,
   "metadata": {},
   "outputs": [
    {
     "data": {
      "text/plain": [
       "56"
      ]
     },
     "execution_count": 73,
     "metadata": {},
     "output_type": "execute_result"
    }
   ],
   "source": [
    "len(listepaysuniques)"
   ]
  },
  {
   "cell_type": "code",
   "execution_count": 74,
   "metadata": {},
   "outputs": [],
   "source": [
    "def nbgold(Country, Year):\n",
    "    selectnbgold = []\n",
    "    for e in data:\n",
    "        if e['Year'] == Year and e['Country'] == Country and e['Medal'] == 'Gold':\n",
    "            selectnbgold.append(e)\n",
    "    reponse15b = len(selectnbgold)\n",
    "    print(Year, Country, reponse15b)\n",
    "    return reponse15b"
   ]
  },
  {
   "cell_type": "code",
   "execution_count": 75,
   "metadata": {},
   "outputs": [
    {
     "name": "stdout",
     "output_type": "stream",
     "text": [
      "2012 FRA 30\n"
     ]
    },
    {
     "data": {
      "text/plain": [
       "30"
      ]
     },
     "execution_count": 75,
     "metadata": {},
     "output_type": "execute_result"
    }
   ],
   "source": [
    "nbgold('FRA', '2012')"
   ]
  },
  {
   "cell_type": "code",
   "execution_count": 88,
   "metadata": {},
   "outputs": [
    {
     "name": "stderr",
     "output_type": "stream",
     "text": [
      "IOPub data rate exceeded.\n",
      "The notebook server will temporarily stop sending output\n",
      "to the client in order to avoid crashing it.\n",
      "To change this limit, set the config variable\n",
      "`--NotebookApp.iopub_data_rate_limit`.\n",
      "\n",
      "Current values:\n",
      "NotebookApp.iopub_data_rate_limit=1000000.0 (bytes/sec)\n",
      "NotebookApp.rate_limit_window=3.0 (secs)\n",
      "\n"
     ]
    }
   ],
   "source": [
    "for pays in listepaysuniques:\n",
    "    n = nbgold(listegold2012, 'Year')\n",
    "    print(n)"
   ]
  },
  {
   "cell_type": "markdown",
   "metadata": {},
   "source": [
    "### Q9. Combien de fois les JO ont-ils été organisé à Londres ? (Marvin)"
   ]
  },
  {
   "cell_type": "code",
   "execution_count": 78,
   "metadata": {},
   "outputs": [
    {
     "name": "stdout",
     "output_type": "stream",
     "text": [
      "3567\n"
     ]
    }
   ],
   "source": [
    "ListeLondres = []\n",
    "for e in data:\n",
    "    if e['City'] == 'London':\n",
    "        ListeLondres.append(e)\n",
    "print(len(ListeLondres))"
   ]
  },
  {
   "cell_type": "code",
   "execution_count": 81,
   "metadata": {},
   "outputs": [],
   "source": [
    "AnneesLondres = []\n",
    "for e in ListeLondres:\n",
    "    if e['Year'] not in AnneesLondres:\n",
    "        AnneesLondres.append(e['Year'])"
   ]
  },
  {
   "cell_type": "code",
   "execution_count": 82,
   "metadata": {},
   "outputs": [
    {
     "name": "stdout",
     "output_type": "stream",
     "text": [
      "3\n"
     ]
    }
   ],
   "source": [
    "print(len(AnneesLondres))"
   ]
  },
  {
   "cell_type": "markdown",
   "metadata": {},
   "source": [
    "### Q10. Combien de joueuses dans l'équipe brésilienne de volleyball de 2012 ?"
   ]
  },
  {
   "cell_type": "code",
   "execution_count": null,
   "metadata": {},
   "outputs": [],
   "source": []
  },
  {
   "cell_type": "code",
   "execution_count": null,
   "metadata": {},
   "outputs": [],
   "source": []
  },
  {
   "cell_type": "code",
   "execution_count": null,
   "metadata": {},
   "outputs": [],
   "source": []
  },
  {
   "cell_type": "markdown",
   "metadata": {},
   "source": [
    "### Question i: "
   ]
  },
  {
   "cell_type": "code",
   "execution_count": null,
   "metadata": {},
   "outputs": [],
   "source": []
  },
  {
   "cell_type": "markdown",
   "metadata": {},
   "source": [
    "--- "
   ]
  },
  {
   "cell_type": "markdown",
   "metadata": {},
   "source": [
    "Fin"
   ]
  }
 ],
 "metadata": {
  "kernelspec": {
   "display_name": "Python 3",
   "language": "python",
   "name": "python3"
  },
  "language_info": {
   "codemirror_mode": {
    "name": "ipython",
    "version": 3
   },
   "file_extension": ".py",
   "mimetype": "text/x-python",
   "name": "python",
   "nbconvert_exporter": "python",
   "pygments_lexer": "ipython3",
   "version": "3.8.6"
  }
 },
 "nbformat": 4,
 "nbformat_minor": 4
}
