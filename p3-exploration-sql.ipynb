{
 "cells": [
  {
   "cell_type": "markdown",
   "metadata": {},
   "source": [
    "# P3. Exploration SQL"
   ]
  },
  {
   "cell_type": "markdown",
   "metadata": {},
   "source": [
    "Le répertoire `/db` contient une base de données SQLite3 `olympics.sqbpro` reprenant les résultats des épreuves des jeux d'été pour une période donnée (cf P1 & P2).\n",
    "\n",
    "On s'intéresse dans le cadre de cette partie P3 à l'exploration via SQL des résultats des JO d'été (table : `summer`)."
   ]
  },
  {
   "cell_type": "markdown",
   "metadata": {},
   "source": [
    "---"
   ]
  },
  {
   "cell_type": "markdown",
   "metadata": {},
   "source": [
    "### Question 1: Qu'est ce que SQL ?"
   ]
  },
  {
   "cell_type": "markdown",
   "metadata": {},
   "source": [
    "C'est un programme permettant d'interroger et manipuler une base de données."
   ]
  },
  {
   "cell_type": "markdown",
   "metadata": {},
   "source": [
    "### Question 2: Qu'est ce que SQLite 3 ? Avantages et/ou Inconvénients ?"
   ]
  },
  {
   "cell_type": "markdown",
   "metadata": {},
   "source": [
    "SQLite est une version simplifiée de SQL, sans serveur, avec les fonctions classiques mais pas certaines plus avancées. Il est plus simple d'utilisation, donc en fonction des besoins il peut être préférable ou non de l'utiliser."
   ]
  },
  {
   "cell_type": "markdown",
   "metadata": {},
   "source": [
    "### Question 3: Donner des exemples d'autres formats de fichier pouvant être utilisé pour fournir des données similaires "
   ]
  },
  {
   "cell_type": "markdown",
   "metadata": {},
   "source": [
    "CSV, XML, JSON..."
   ]
  },
  {
   "cell_type": "markdown",
   "metadata": {},
   "source": [
    "### Question 4: Quel est le type (texte ou binaire) du fichier base de données SQLite3?"
   ]
  },
  {
   "cell_type": "markdown",
   "metadata": {},
   "source": [
    "Le fichier `olympics.sqbpro` est un fichier binaire."
   ]
  },
  {
   "cell_type": "markdown",
   "metadata": {},
   "source": [
    "### Question 5: Donner les caractéristiques de la table `summer` ? "
   ]
  },
  {
   "cell_type": "markdown",
   "metadata": {},
   "source": [
    "C'est une table contenant Year, City, Sport, Discipline, Athlete, Country, Gender, Event et Medal."
   ]
  },
  {
   "cell_type": "markdown",
   "metadata": {},
   "source": [
    "---\n",
    "### Question 6: Combien d'enregistrements possède la table `summer` ?"
   ]
  },
  {
   "cell_type": "markdown",
   "metadata": {},
   "source": [
    "```SELECT count(*)\n",
    "FROM summer```"
   ]
  },
  {
   "cell_type": "markdown",
   "metadata": {},
   "source": [
    "31165"
   ]
  },
  {
   "cell_type": "markdown",
   "metadata": {},
   "source": [
    "### Question 7: Quelle période des JO couvre ce fichier de résultats ?"
   ]
  },
  {
   "cell_type": "markdown",
   "metadata": {},
   "source": [
    "```SELECT  min(Year), max(Year)\n",
    "FROM summer```"
   ]
  },
  {
   "cell_type": "markdown",
   "metadata": {},
   "source": [
    "min(Year): 1896\n",
    "\n",
    "max(Year): 2012"
   ]
  },
  {
   "cell_type": "markdown",
   "metadata": {},
   "source": [
    "### Question 8: Indiquer les années et villes des olympiades ? "
   ]
  },
  {
   "cell_type": "markdown",
   "metadata": {},
   "source": [
    "```SELECT DISTINCT Year, City\n",
    "FROM summer```"
   ]
  },
  {
   "cell_type": "markdown",
   "metadata": {},
   "source": [
    "![listejo](listejo.png)"
   ]
  },
  {
   "cell_type": "markdown",
   "metadata": {},
   "source": [
    "### Nombre de médailles d'or gagnées par la France en 1984"
   ]
  },
  {
   "cell_type": "markdown",
   "metadata": {},
   "source": [
    "```SELECT count(*)\n",
    "FROM summer\n",
    "WHERE Year = 1984 AND Country = 'FRA' AND Medal = 'Gold'```"
   ]
  },
  {
   "cell_type": "markdown",
   "metadata": {},
   "source": [
    "21"
   ]
  },
  {
   "cell_type": "markdown",
   "metadata": {},
   "source": [
    "### Nombre de médailles gagnées par le Japon en 2012 "
   ]
  },
  {
   "cell_type": "markdown",
   "metadata": {},
   "source": [
    "```SELECT count(*)\n",
    "FROM summer\n",
    "WHERE Year = 2012 AND Country = 'JPN'```"
   ]
  },
  {
   "cell_type": "markdown",
   "metadata": {},
   "source": [
    "84"
   ]
  },
  {
   "cell_type": "markdown",
   "metadata": {},
   "source": [
    "### Entre 1984 et 2012, combien de médailles gagnées par la France ?"
   ]
  },
  {
   "cell_type": "markdown",
   "metadata": {},
   "source": [
    "```SELECT count(*)\n",
    "FROM summer\n",
    "WHERE Year BETWEEN 1984 AND 2012 AND Country = 'FRA'```"
   ]
  },
  {
   "cell_type": "markdown",
   "metadata": {},
   "source": [
    "482"
   ]
  },
  {
   "cell_type": "markdown",
   "metadata": {},
   "source": [
    "### Combien de joueuses comptait l'équipe brésilienne féminine de volleyball en 2012 ?"
   ]
  },
  {
   "cell_type": "markdown",
   "metadata": {},
   "source": [
    "```SELECT count(*)\n",
    "FROM summer\n",
    "WHERE Year = 2012 AND Gender = 'Women' AND Country = 'BRA' AND Event = 'Volleyball'```"
   ]
  },
  {
   "cell_type": "markdown",
   "metadata": {},
   "source": [
    "12"
   ]
  },
  {
   "cell_type": "markdown",
   "metadata": {},
   "source": [
    "### La France a-t-elle déjà gagné une médaille d'or au cricket ?"
   ]
  },
  {
   "cell_type": "markdown",
   "metadata": {},
   "source": [
    "```SELECT count(*)\n",
    "FROM summer\n",
    "WHERE Country = 'FRA' AND Discipline = 'Cricket' AND Medal = 'Gold'```"
   ]
  },
  {
   "cell_type": "markdown",
   "metadata": {},
   "source": [
    "0"
   ]
  },
  {
   "cell_type": "markdown",
   "metadata": {},
   "source": [
    "### Quel athlète a remporté le plus de médailles d'or ?"
   ]
  },
  {
   "cell_type": "markdown",
   "metadata": {},
   "source": [
    "```SELECT Athlete,count(Medal)\n",
    "FROM summer\n",
    "WHERE Medal = 'Gold'\n",
    "GROUP BY Athlete\n",
    "ORDER BY count(Medal) DESC\n",
    "LIMIT 1```"
   ]
  },
  {
   "cell_type": "markdown",
   "metadata": {},
   "source": [
    "PHELPS Michael: 18"
   ]
  },
  {
   "cell_type": "markdown",
   "metadata": {},
   "source": [
    "### Nombre de médailles d'or par pays en 2012"
   ]
  },
  {
   "cell_type": "markdown",
   "metadata": {},
   "source": [
    "```SELECT Country,count(Medal)\n",
    "FROM summer\n",
    "WHERE Medal = 'Gold' AND Year = 2012\n",
    "GROUP BY Country\n",
    "ORDER BY count(Medal) DESC```"
   ]
  },
  {
   "cell_type": "markdown",
   "metadata": {},
   "source": [
    "![countgold](countgold.png)"
   ]
  },
  {
   "cell_type": "markdown",
   "metadata": {},
   "source": [
    "### Quel pays a remporté le plus de médailles d'or ?"
   ]
  },
  {
   "cell_type": "markdown",
   "metadata": {},
   "source": [
    "```SELECT Country,count(Medal)\n",
    "FROM summer\n",
    "WHERE Medal = 'Gold'\n",
    "GROUP BY Country\n",
    "ORDER BY count(Medal) DESC\n",
    "LIMIT 1```"
   ]
  },
  {
   "cell_type": "markdown",
   "metadata": {},
   "source": [
    "USA: 2235"
   ]
  },
  {
   "cell_type": "markdown",
   "metadata": {},
   "source": [
    "### Combien de femmes ont déjà remporté une médaille ?"
   ]
  },
  {
   "cell_type": "markdown",
   "metadata": {},
   "source": [
    "```SELECT DISTINCT count(*)\n",
    "FROM summer\n",
    "WHERE Gender = 'Women'```"
   ]
  },
  {
   "cell_type": "markdown",
   "metadata": {},
   "source": [
    "8419"
   ]
  },
  {
   "cell_type": "markdown",
   "metadata": {},
   "source": [
    "### Combien de femmes ont déjà remporté une médaille d'or ?"
   ]
  },
  {
   "cell_type": "markdown",
   "metadata": {},
   "source": [
    "```SELECT DISTINCT count(*)\n",
    "FROM summer\n",
    "WHERE Gender = 'Women' AND Medal = 'Gold'```"
   ]
  },
  {
   "cell_type": "markdown",
   "metadata": {},
   "source": [
    "2788"
   ]
  },
  {
   "cell_type": "markdown",
   "metadata": {},
   "source": [
    "### Combien de femmes françaises ont remporté une médaille en 2012 et quelles sont-elles ?"
   ]
  },
  {
   "cell_type": "markdown",
   "metadata": {},
   "source": [
    "```\n",
    "--Nombre de femmes françaises qui ont remporté une médaille en 2012\n",
    "SELECT count(DISTINCT Athlete)\n",
    "from summer\n",
    "WHERE Country = 'FRA' AND Gender = 'Women' AND Year = 2012```"
   ]
  },
  {
   "cell_type": "markdown",
   "metadata": {},
   "source": [
    "29"
   ]
  },
  {
   "cell_type": "markdown",
   "metadata": {},
   "source": [
    "```\n",
    "-- Liste des médailles et des athlètes qui les ont remportées (cette fois-ci une même athlète peut être présente plusieurs fois)\n",
    "SELECT Athlete, Medal\n",
    "FROM summer\n",
    "WHERE Gender = 'Women' AND Year = 2012 AND Country = 'FRA'\n",
    "ORDER BY Athlete```"
   ]
  },
  {
   "cell_type": "markdown",
   "metadata": {},
   "source": [
    "![listefemmes](listefemmes.png)"
   ]
  },
  {
   "cell_type": "markdown",
   "metadata": {},
   "source": [
    "### Combien de fois Londres a-t-il accueilli les JO ?"
   ]
  },
  {
   "cell_type": "markdown",
   "metadata": {},
   "source": [
    "```SELECT count(DISTINCT Year)\n",
    "FROM summer\n",
    "WHERE City = 'London'```"
   ]
  },
  {
   "cell_type": "markdown",
   "metadata": {},
   "source": [
    "3"
   ]
  },
  {
   "cell_type": "markdown",
   "metadata": {},
   "source": [
    "### Combien de villes différentes ont accueilli les JO entre 1896 et 2012 ?"
   ]
  },
  {
   "cell_type": "markdown",
   "metadata": {},
   "source": [
    "```SELECT count(DISTINCT City)\n",
    "from summer```"
   ]
  },
  {
   "cell_type": "markdown",
   "metadata": {},
   "source": [
    "22"
   ]
  },
  {
   "cell_type": "markdown",
   "metadata": {},
   "source": [
    "### Quel pays a le plus d'athlètes ?"
   ]
  },
  {
   "cell_type": "markdown",
   "metadata": {},
   "source": [
    "```SELECT Country,count(DISTINCT Athlete)\n",
    "FROM summer\n",
    "GROUP BY Country\n",
    "ORDER BY count(DISTINCT Athlete) DESC\n",
    "LIMIT 1```"
   ]
  },
  {
   "cell_type": "markdown",
   "metadata": {},
   "source": [
    "USA: 3149"
   ]
  },
  {
   "cell_type": "markdown",
   "metadata": {},
   "source": [
    "### Combien de sports différents par année ?"
   ]
  },
  {
   "cell_type": "markdown",
   "metadata": {},
   "source": [
    "```SELECT Year, count(DISTINCT Sport)\n",
    "from summer\n",
    "GROUP by Year```"
   ]
  },
  {
   "cell_type": "markdown",
   "metadata": {},
   "source": [
    "![countsports](countsports.png)"
   ]
  },
  {
   "cell_type": "markdown",
   "metadata": {},
   "source": [
    "### Dans quels sports les Grecs ont-ils déjà gagné des médailles ?"
   ]
  },
  {
   "cell_type": "markdown",
   "metadata": {},
   "source": [
    "```SELECT Sport, count(Medal)\n",
    "from summer\n",
    "WHERE Country = 'GRE'\n",
    "GROUP BY Sport\n",
    "ORDER BY count(Medal) DESC```"
   ]
  },
  {
   "cell_type": "markdown",
   "metadata": {},
   "source": [
    "![SportsGrecs](SportsGrecs.png)"
   ]
  },
  {
   "cell_type": "markdown",
   "metadata": {},
   "source": [
    "--- "
   ]
  },
  {
   "cell_type": "markdown",
   "metadata": {},
   "source": [
    "Fin"
   ]
  }
 ],
 "metadata": {
  "kernelspec": {
   "display_name": "Python 3",
   "language": "python",
   "name": "python3"
  },
  "language_info": {
   "codemirror_mode": {
    "name": "ipython",
    "version": 3
   },
   "file_extension": ".py",
   "mimetype": "text/x-python",
   "name": "python",
   "nbconvert_exporter": "python",
   "pygments_lexer": "ipython3",
   "version": "3.8.6"
  }
 },
 "nbformat": 4,
 "nbformat_minor": 4
}
